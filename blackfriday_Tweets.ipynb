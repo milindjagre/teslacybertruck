{
 "cells": [
  {
   "cell_type": "code",
   "execution_count": null,
   "metadata": {},
   "outputs": [],
   "source": [
    "import tweepy\n",
    "import csv\n",
    "import pandas as pd\n",
    "consumer_key = 'NFEGj7bSTLJSTGvDcfjjY5DJT'\n",
    "consumer_secret = 'FBpyEBBc9qdEQt6rQ0EcrDu4pqFqeFkPtlupMK8s1IxNm8gFLP'\n",
    "access_token = '150568127-WRfRD2KFawWSek2wBEKsh5kzuVMomDyGvY8y2Sja'\n",
    "access_token_secret = 'XuFib2rEKvZcWWoxa5YFIGLVNu1LsnP5QwOpofGlM8gly'\n",
    "\n",
    "auth = tweepy.OAuthHandler(consumer_key, consumer_secret)\n",
    "auth.set_access_token(access_token, access_token_secret)\n",
    "api = tweepy.API(auth,wait_on_rate_limit=True)\n",
    "# Open/Create a file to append data\n",
    "csvFile = open('BlackFriday_Tweets.csv', 'a')\n",
    "#Use csv Writer\n",
    "csvWriter = csv.writer(csvFile)\n",
    "\n",
    "for tweet in tweepy.Cursor(api.search,q=\"#BlackFriday\",count=100,\n",
    "                           lang=\"en\",\n",
    "                           since=\"2019-11-10\").items():\n",
    "    csvWriter.writerow([tweet.created_at, tweet.text.encode('utf-8')])"
   ]
  },
  {
   "cell_type": "code",
   "execution_count": null,
   "metadata": {},
   "outputs": [],
   "source": [
    "input_file = open(\"BlackFriday_Tweets.csv\", \"r\", encoding=\"utf8\")\n",
    "count=0\n",
    "for line in input_file:\n",
    "    if '\\n' != line:\n",
    "        count+=1\n",
    "        if count<10:\n",
    "            print(line)\n",
    "        else:\n",
    "            exit(1)"
   ]
  },
  {
   "cell_type": "code",
   "execution_count": null,
   "metadata": {},
   "outputs": [],
   "source": [
    "\"\"\"\n",
    "**************************************\n",
    "**************************************\n",
    "******       OBJECTIVE - 2      ******\n",
    "***** MOST FREQUENTLY USED WORDS *****\n",
    "**************************************\n",
    "**************************************\n",
    "\"\"\"\n",
    "\n",
    "from collections import Counter\n",
    "import re\n",
    "from nltk.corpus import stopwords\n",
    "import nltk\n",
    "import matplotlib.pyplot as plt\n",
    "from wordcloud import WordCloud\n",
    "%matplotlib inline\n",
    "\n",
    "with open('BlackFriday_Tweets.csv', 'r', encoding=\"utf8\") as file:\n",
    "    data = file.read().replace('\\n', ' ')\n",
    "word_list = data.split()\n",
    "cleaned_word_list = []\n",
    "new_cleaned_word_list = []\n",
    "word_cloud_words = ' '\n",
    "stop_words = stopwords.words('english')\n",
    "\n",
    "for word in word_list:\n",
    "    cleaned_word_list.append(re.sub(r'[\\,\\.\\[\\]\\-\\!\\?\\:\\)\\(]','',word.lower()))\n",
    "\n",
    "for cleaned_word in cleaned_word_list:\n",
    "    if cleaned_word in stop_words or len(cleaned_word) < 4:\n",
    "        cleaned_word_list.remove(cleaned_word)\n",
    "    else:\n",
    "        new_cleaned_word_list.append(cleaned_word)\n",
    "\n",
    "for words in new_cleaned_word_list:\n",
    "    word_cloud_words = word_cloud_words + words + ' '\n",
    "wordcloud = WordCloud(background_color ='white', min_font_size = 12).generate(word_cloud_words)\n",
    "plt.figure(figsize = (5, 10), facecolor = None) \n",
    "plt.imshow(wordcloud) \n",
    "plt.axis(\"off\") \n",
    "plt.tight_layout(pad = 0) \n",
    "plt.show()\n",
    "\n",
    "most_frequent_words_list = Counter(new_cleaned_word_list).most_common(10)\n",
    "for frequent_word in most_frequent_words_list:\n",
    "    print(frequent_word)"
   ]
  },
  {
   "cell_type": "code",
   "execution_count": null,
   "metadata": {},
   "outputs": [],
   "source": []
  }
 ],
 "metadata": {
  "kernelspec": {
   "display_name": "Python 3",
   "language": "python",
   "name": "python3"
  },
  "language_info": {
   "codemirror_mode": {
    "name": "ipython",
    "version": 3
   },
   "file_extension": ".py",
   "mimetype": "text/x-python",
   "name": "python",
   "nbconvert_exporter": "python",
   "pygments_lexer": "ipython3",
   "version": "3.7.1"
  },
  "latex_envs": {
   "LaTeX_envs_menu_present": true,
   "autoclose": false,
   "autocomplete": true,
   "bibliofile": "biblio.bib",
   "cite_by": "apalike",
   "current_citInitial": 1,
   "eqLabelWithNumbers": true,
   "eqNumInitial": 1,
   "hotkeys": {
    "equation": "Ctrl-E",
    "itemize": "Ctrl-I"
   },
   "labels_anchors": false,
   "latex_user_defs": false,
   "report_style_numbering": false,
   "user_envs_cfg": false
  },
  "toc": {
   "base_numbering": 1,
   "nav_menu": {},
   "number_sections": true,
   "sideBar": true,
   "skip_h1_title": false,
   "title_cell": "Table of Contents",
   "title_sidebar": "Contents",
   "toc_cell": false,
   "toc_position": {},
   "toc_section_display": true,
   "toc_window_display": false
  }
 },
 "nbformat": 4,
 "nbformat_minor": 2
}

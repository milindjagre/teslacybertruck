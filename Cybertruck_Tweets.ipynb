{
 "cells": [
  {
   "cell_type": "code",
   "execution_count": null,
   "metadata": {},
   "outputs": [],
   "source": [
    "import tweepy\n",
    "import csv\n",
    "import pandas as pd\n",
    "consumer_key = 'EPQZxB2Tdb7zarPY0LQFPoQuG'\n",
    "consumer_secret = 'UmGII5eqhIhzQtsneVRXYcd4lzILzRgdBGTtsKbyQNVW4s40I8'\n",
    "access_token = '150568127-nmZ10vBqJdyB1rH8aAroluoSPRnjRjN6H9TOtQQ6'\n",
    "access_token_secret = 'gkTgmKGXEK2gINHa5LtHcdbgSOnRE3si1upZWUupRDmoX'\n",
    "\n",
    "auth = tweepy.OAuthHandler(consumer_key, consumer_secret)\n",
    "auth.set_access_token(access_token, access_token_secret)\n",
    "api = tweepy.API(auth,wait_on_rate_limit=True)\n",
    "# Open/Create a file to append data\n",
    "csvFile = open('CyberTruck_Tweets.csv', 'a')\n",
    "#Use csv Writer\n",
    "csvWriter = csv.writer(csvFile)\n",
    "\n",
    "for tweet in tweepy.Cursor(api.search,q=\"#cybertruck\",count=100,\n",
    "                           lang=\"en\",\n",
    "                           since=\"2019-11-10\").items():\n",
    "    csvWriter.writerow([tweet.created_at, tweet.text.encode('utf-8')])"
   ]
  },
  {
   "cell_type": "code",
   "execution_count": 1,
   "metadata": {},
   "outputs": [
    {
     "name": "stdout",
     "output_type": "stream",
     "text": [
      "2019-11-22 19:28:47,b'RT @ARKInvest: \\xf0\\x9f\\x94\\x94Media Alert\\xf0\\x9f\\x94\\x94 Analyst @TashaARK will join @JenSaidIt on @YahooFinance today at 3:30 p.m. ET to discuss the $TSLA #Cybertruck\\xe2\\x80\\xa6'\n",
      "\n",
      "2019-11-22 19:28:47,\"b\"\"RT @Qrypton: When @elonmusk told ya'll the truck would look like something out of Blade Runner ya'll thought he was playing. #Tesla #Cybert\\xe2\\x80\\xa6\"\"\"\n",
      "\n",
      "2019-11-22 19:28:47,\"b'RT @tictoc: Tesla\\'s demo of its first electric pickup didn\\'t go quite according to plan. The \"\"Tesla armor glass\"\" windows shattered when hit\\xe2\\x80\\xa6'\"\n",
      "\n",
      "2019-11-22 19:28:46,\"b'RT @BinanceAmerica: Hey @elonmusk, couple of questions on the #CyberTruck!\\n\\n1. Will deliveries to Mars be included? (We were thinking about\\xe2\\x80\\xa6'\"\n",
      "\n",
      "2019-11-22 19:28:45,b'RT @SteveFowler: Bloody hell. @tesla Cybertruck. #Cybertruck https://t.co/IVYIPKEPVL'\n",
      "\n",
      "2019-11-22 19:28:43,b'RT @GTASeries: I knew I saw the Tesla #Cybertruck somewhere before https://t.co/LygVYqFskJ'\n",
      "\n",
      "2019-11-22 19:28:43,\"b\"\"RT @nichegamer: Strap in, soldier.\\nWe're finishing this fight! \\n#Cybertruck https://t.co/YI3COiYkbF\"\"\"\n",
      "\n",
      "2019-11-22 19:28:43,\"b\"\"@SnazzyQ Where are the autopilot cameras on the #cybertruck? I didn't see anything obvious on the demo trucks or on\\xe2\\x80\\xa6 https://t.co/flbnmVWEXg\"\"\"\n",
      "\n",
      "2019-11-22 19:28:41,b'RT @safelite: Actual photo of us replacing the #Cybertruck windows https://t.co/ywtuhZL9wa'\n",
      "\n"
     ]
    }
   ],
   "source": [
    "input_file = open(\"CyberTruck_Tweets.csv\", \"r\", encoding=\"utf8\")\n",
    "count=0\n",
    "for line in input_file:\n",
    "    if '\\n' != line:\n",
    "        count+=1\n",
    "        if count<10:\n",
    "            print(line)\n",
    "        else:\n",
    "            exit(1)"
   ]
  },
  {
   "cell_type": "code",
   "execution_count": null,
   "metadata": {},
   "outputs": [],
   "source": []
  }
 ],
 "metadata": {
  "kernelspec": {
   "display_name": "Python 3",
   "language": "python",
   "name": "python3"
  },
  "language_info": {
   "codemirror_mode": {
    "name": "ipython",
    "version": 3
   },
   "file_extension": ".py",
   "mimetype": "text/x-python",
   "name": "python",
   "nbconvert_exporter": "python",
   "pygments_lexer": "ipython3",
   "version": "3.7.1"
  },
  "latex_envs": {
   "LaTeX_envs_menu_present": true,
   "autoclose": false,
   "autocomplete": true,
   "bibliofile": "biblio.bib",
   "cite_by": "apalike",
   "current_citInitial": 1,
   "eqLabelWithNumbers": true,
   "eqNumInitial": 1,
   "hotkeys": {
    "equation": "Ctrl-E",
    "itemize": "Ctrl-I"
   },
   "labels_anchors": false,
   "latex_user_defs": false,
   "report_style_numbering": false,
   "user_envs_cfg": false
  },
  "toc": {
   "base_numbering": 1,
   "nav_menu": {},
   "number_sections": true,
   "sideBar": true,
   "skip_h1_title": false,
   "title_cell": "Table of Contents",
   "title_sidebar": "Contents",
   "toc_cell": false,
   "toc_position": {},
   "toc_section_display": true,
   "toc_window_display": false
  }
 },
 "nbformat": 4,
 "nbformat_minor": 2
}
